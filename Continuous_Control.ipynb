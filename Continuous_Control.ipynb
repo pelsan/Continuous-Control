{
 "cells": [
  {
   "cell_type": "markdown",
   "metadata": {},
   "source": [
    "# Continuous Control\n",
    "\n",
    "---\n",
    "\n",
    "You are welcome to use this coding environment to train your agent for the project.  Follow the instructions below to get started!\n",
    "\n",
    "### 1. Start the Environment\n",
    "\n",
    "Run the next code cell to install a few packages.  This line will take a few minutes to run!"
   ]
  },
  {
   "cell_type": "code",
   "execution_count": 1,
   "metadata": {},
   "outputs": [],
   "source": [
    "import os\n",
    "os.environ[\"KMP_DUPLICATE_LIB_OK\"]=\"TRUE\""
   ]
  },
  {
   "cell_type": "code",
   "execution_count": 2,
   "metadata": {},
   "outputs": [],
   "source": [
    "from unityagents import UnityEnvironment"
   ]
  },
  {
   "cell_type": "code",
   "execution_count": 3,
   "metadata": {},
   "outputs": [],
   "source": [
    "##!pip -q install ./python"
   ]
  },
  {
   "cell_type": "markdown",
   "metadata": {},
   "source": [
    "The environments corresponding to both versions of the environment are already saved in the Workspace and can be accessed at the file paths provided below.  \n",
    "\n",
    "Please select one of the two options below for loading the environment."
   ]
  },
  {
   "cell_type": "code",
   "execution_count": 4,
   "metadata": {},
   "outputs": [
    {
     "name": "stderr",
     "output_type": "stream",
     "text": [
      "INFO:unityagents:\n",
      "'Academy' started successfully!\n",
      "Unity Academy name: Academy\n",
      "        Number of Brains: 1\n",
      "        Number of External Brains : 1\n",
      "        Lesson number : 0\n",
      "        Reset Parameters :\n",
      "\t\tgoal_speed -> 1.0\n",
      "\t\tgoal_size -> 5.0\n",
      "Unity brain name: ReacherBrain\n",
      "        Number of Visual Observations (per agent): 0\n",
      "        Vector Observation space type: continuous\n",
      "        Vector Observation space size (per agent): 33\n",
      "        Number of stacked Vector Observation: 1\n",
      "        Vector Action space type: continuous\n",
      "        Vector Action space size (per agent): 4\n",
      "        Vector Action descriptions: , , , \n"
     ]
    }
   ],
   "source": [
    "import numpy as np\n",
    "env = UnityEnvironment(file_name='Reacher_Windows_x86_64-20/Reacher.exe')"
   ]
  },
  {
   "cell_type": "markdown",
   "metadata": {},
   "source": [
    "Environments contain **_brains_** which are responsible for deciding the actions of their associated agents. Here we check for the first brain available, and set it as the default brain we will be controlling from Python."
   ]
  },
  {
   "cell_type": "code",
   "execution_count": 5,
   "metadata": {},
   "outputs": [
    {
     "name": "stdout",
     "output_type": "stream",
     "text": [
      "ReacherBrain\n"
     ]
    }
   ],
   "source": [
    "# get the default brain\n",
    "brain_name = env.brain_names[0]\n",
    "print(brain_name)"
   ]
  },
  {
   "cell_type": "code",
   "execution_count": 6,
   "metadata": {},
   "outputs": [],
   "source": [
    "brain = env.brains[brain_name]"
   ]
  },
  {
   "cell_type": "markdown",
   "metadata": {},
   "source": [
    "### 2. Examine the State and Action Spaces\n",
    "\n",
    "Run the code cell below to print some information about the environment."
   ]
  },
  {
   "cell_type": "code",
   "execution_count": 7,
   "metadata": {},
   "outputs": [
    {
     "name": "stdout",
     "output_type": "stream",
     "text": [
      "Number of agents: 20\n",
      "Size of each action: 4\n",
      "There are 20 agents. Each observes a state with length: 33\n",
      "The state for the first agent looks like: [ 0.00000000e+00 -4.00000000e+00  0.00000000e+00  1.00000000e+00\n",
      " -0.00000000e+00 -0.00000000e+00 -4.37113883e-08  0.00000000e+00\n",
      "  0.00000000e+00  0.00000000e+00  0.00000000e+00  0.00000000e+00\n",
      "  0.00000000e+00  0.00000000e+00 -1.00000000e+01  0.00000000e+00\n",
      "  1.00000000e+00 -0.00000000e+00 -0.00000000e+00 -4.37113883e-08\n",
      "  0.00000000e+00  0.00000000e+00  0.00000000e+00  0.00000000e+00\n",
      "  0.00000000e+00  0.00000000e+00  5.75471878e+00 -1.00000000e+00\n",
      "  5.55726624e+00  0.00000000e+00  1.00000000e+00  0.00000000e+00\n",
      " -1.68164849e-01]\n"
     ]
    }
   ],
   "source": [
    "# reset the environment\n",
    "env_info = env.reset(train_mode=True)[brain_name]\n",
    "\n",
    "# number of agents\n",
    "num_agents = len(env_info.agents)\n",
    "print('Number of agents:', num_agents)\n",
    "\n",
    "# size of each action\n",
    "action_size = brain.vector_action_space_size\n",
    "print('Size of each action:', action_size)\n",
    "\n",
    "# examine the state space \n",
    "states = env_info.vector_observations\n",
    "state_size = states.shape[1]\n",
    "print('There are {} agents. Each observes a state with length: {}'.format(states.shape[0], state_size))\n",
    "print('The state for the first agent looks like:', states[0])"
   ]
  },
  {
   "cell_type": "markdown",
   "metadata": {},
   "source": [
    "### 3. Take Random Actions in the Environment\n",
    "\n",
    "In the next code cell, you will learn how to use the Python API to control the agent and receive feedback from the environment.\n",
    "\n",
    "Note that **in this coding environment, you will not be able to watch the agents while they are training**, and you should set `train_mode=True` to restart the environment.\n"
   ]
  },
  {
   "cell_type": "code",
   "execution_count": 8,
   "metadata": {},
   "outputs": [],
   "source": [
    "env_info = env.reset(train_mode=True)[brain_name]      # reset the environment    \n",
    "states = env_info.vector_observations                  # get the current state (for each agent)\n",
    "scores = np.zeros(num_agents)                          # initialize the score (for each agent)\n",
    "cont = 0"
   ]
  },
  {
   "cell_type": "code",
   "execution_count": 9,
   "metadata": {},
   "outputs": [
    {
     "name": "stdout",
     "output_type": "stream",
     "text": [
      "Total score (averaged over agents) this episode: 0.16849999623373152\n",
      "1001\n"
     ]
    }
   ],
   "source": [
    "while True:\n",
    "    actions = np.random.randn(num_agents, action_size) # select an action (for each agent)\n",
    "    cont = cont +1\n",
    "    actions = np.clip(actions, -1, 1)                  # all actions between -1 and 1\n",
    "    #print(\"----actions-------\")\n",
    "    \n",
    "    env_info = env.step(actions)[brain_name]           # send all actions to tne environment\n",
    "    next_states = env_info.vector_observations         # get next state (for each agent)\n",
    "    rewards = env_info.rewards                         # get reward (for each agent)\n",
    "    dones = env_info.local_done                        # see if episode finished\n",
    "    scores += env_info.rewards                         # update the score (for each agent)\n",
    "    states = next_states                               # roll over states to next time step\n",
    "    if(rewards[0] > 0):\n",
    "        print(\"Actions \"+ str(actions))\n",
    "        print(next_states)\n",
    "        print(rewards)\n",
    "        print(dones)\n",
    "        \n",
    "    if np.any(dones):                                  # exit loop if episode finished\n",
    "        break\n",
    "print('Total score (averaged over agents) this episode: {}'.format(np.mean(scores)))\n",
    "print (cont)"
   ]
  },
  {
   "cell_type": "markdown",
   "metadata": {},
   "source": [
    "When finished, you can close the environment."
   ]
  },
  {
   "cell_type": "code",
   "execution_count": 10,
   "metadata": {},
   "outputs": [],
   "source": [
    "#env.close()"
   ]
  },
  {
   "cell_type": "markdown",
   "metadata": {},
   "source": [
    "### 4. It's Your Turn!\n",
    "\n",
    "Now it's your turn to train your own agent to solve the environment!  A few **important notes**:\n",
    "- When training the environment, set `train_mode=True`, so that the line for resetting the environment looks like the following:\n",
    "```python\n",
    "env_info = env.reset(train_mode=True)[brain_name]\n",
    "```\n",
    "- To structure your work, you're welcome to work directly in this Jupyter notebook, or you might like to start over with a new file!  You can see the list of files in the workspace by clicking on **_Jupyter_** in the top left corner of the notebook.\n",
    "- In this coding environment, you will not be able to watch the agents while they are training.  However, **_after training the agents_**, you can download the saved model weights to watch the agents on your own machine! "
   ]
  },
  {
   "cell_type": "code",
   "execution_count": 11,
   "metadata": {},
   "outputs": [],
   "source": [
    "import random\n",
    "import torch\n",
    "from collections import deque\n",
    "import matplotlib.pyplot as plt\n",
    "%matplotlib inline\n",
    "\n",
    "from ddpg_agent import Agent"
   ]
  },
  {
   "cell_type": "code",
   "execution_count": 12,
   "metadata": {},
   "outputs": [],
   "source": [
    "agent = Agent(state_size, action_size, random_seed=0, num_agents = num_agents)"
   ]
  },
  {
   "cell_type": "code",
   "execution_count": 13,
   "metadata": {
    "scrolled": true
   },
   "outputs": [
    {
     "name": "stdout",
     "output_type": "stream",
     "text": [
      "\n",
      "Episode 1\tAverage Score: 0.94\n",
      "Episode 2\tAverage Score: 1.08\n",
      "Episode 3\tAverage Score: 0.86\n",
      "Episode 4\tAverage Score: 0.88\n",
      "Episode 5\tAverage Score: 1.01\n",
      "Episode 6\tAverage Score: 1.04\n",
      "Episode 7\tAverage Score: 1.27\n",
      "Episode 8\tAverage Score: 1.86\n",
      "Episode 9\tAverage Score: 2.28\n",
      "Episode 10\tAverage Score: 3.21\n",
      "Episode 11\tAverage Score: 4.32\n",
      "Episode 12\tAverage Score: 5.85\n",
      "Episode 13\tAverage Score: 6.66\n",
      "Episode 14\tAverage Score: 8.18\n",
      "Episode 15\tAverage Score: 9.30\n",
      "Episode 16\tAverage Score: 10.43\n",
      "Episode 17\tAverage Score: 11.71\n",
      "Episode 18\tAverage Score: 13.17\n",
      "Episode 19\tAverage Score: 14.56\n",
      "Episode 20\tAverage Score: 15.76\n",
      "Episode 21\tAverage Score: 16.80\n",
      "Episode 22\tAverage Score: 17.83\n",
      "Episode 23\tAverage Score: 18.76\n",
      "Episode 24\tAverage Score: 19.44\n",
      "Episode 25\tAverage Score: 20.03\n",
      "Episode 26\tAverage Score: 20.64\n",
      "Episode 27\tAverage Score: 21.28\n",
      "Episode 28\tAverage Score: 21.83\n",
      "Episode 29\tAverage Score: 22.39\n",
      "Episode 30\tAverage Score: 22.85\n",
      "Episode 31\tAverage Score: 23.33\n",
      "Episode 32\tAverage Score: 23.76\n",
      "Episode 33\tAverage Score: 24.13\n",
      "Episode 34\tAverage Score: 24.49\n",
      "Episode 35\tAverage Score: 24.76\n",
      "Episode 36\tAverage Score: 25.05\n",
      "Episode 37\tAverage Score: 25.39\n",
      "Episode 38\tAverage Score: 25.72\n",
      "Episode 39\tAverage Score: 25.97\n",
      "Episode 40\tAverage Score: 26.24\n",
      "Episode 41\tAverage Score: 26.51\n",
      "Episode 42\tAverage Score: 26.80\n",
      "Episode 43\tAverage Score: 27.00\n",
      "Episode 44\tAverage Score: 27.21\n",
      "Episode 45\tAverage Score: 27.34\n",
      "Episode 46\tAverage Score: 27.51\n",
      "Episode 47\tAverage Score: 27.66\n",
      "Episode 48\tAverage Score: 27.81\n",
      "Episode 49\tAverage Score: 27.95\n",
      "Episode 50\tAverage Score: 28.17\n",
      "Episode 51\tAverage Score: 28.31\n",
      "Episode 52\tAverage Score: 28.45\n",
      "Episode 53\tAverage Score: 28.56\n",
      "Episode 54\tAverage Score: 28.73\n",
      "Episode 55\tAverage Score: 28.86\n",
      "Episode 56\tAverage Score: 28.96\n",
      "Episode 57\tAverage Score: 29.00\n",
      "Episode 58\tAverage Score: 29.10\n",
      "Episode 59\tAverage Score: 29.17\n",
      "Episode 60\tAverage Score: 29.27\n",
      "Episode 61\tAverage Score: 29.40\n",
      "Episode 62\tAverage Score: 29.50\n",
      "Episode 63\tAverage Score: 29.58\n",
      "Episode 64\tAverage Score: 29.69\n",
      "Episode 65\tAverage Score: 29.80\n",
      "Episode 66\tAverage Score: 29.89\n",
      "Episode 67\tAverage Score: 29.96\n",
      "Episode 68\tAverage Score: 30.04\n",
      "Episode 69\tAverage Score: 30.15\n",
      "Episode 70\tAverage Score: 30.20\n",
      "Episode 71\tAverage Score: 30.19\n",
      "Episode 72\tAverage Score: 30.24\n",
      "Episode 73\tAverage Score: 30.31\n",
      "Episode 74\tAverage Score: 30.32\n",
      "Episode 75\tAverage Score: 30.39\n",
      "Episode 76\tAverage Score: 30.46\n",
      "Episode 77\tAverage Score: 30.47\n",
      "Episode 78\tAverage Score: 30.49\n",
      "Episode 79\tAverage Score: 30.56\n",
      "Episode 80\tAverage Score: 30.66\n",
      "Episode 81\tAverage Score: 30.69\n",
      "Episode 82\tAverage Score: 30.73\n",
      "Episode 83\tAverage Score: 30.76\n",
      "Episode 84\tAverage Score: 30.82\n",
      "Episode 85\tAverage Score: 30.86\n",
      "Episode 86\tAverage Score: 30.90\n",
      "Episode 87\tAverage Score: 30.97\n",
      "Episode 88\tAverage Score: 31.04\n",
      "Episode 89\tAverage Score: 31.11\n",
      "Episode 90\tAverage Score: 31.13\n",
      "Episode 91\tAverage Score: 31.17\n",
      "Episode 92\tAverage Score: 31.25\n",
      "Episode 93\tAverage Score: 31.29\n",
      "Episode 94\tAverage Score: 31.35\n",
      "Episode 95\tAverage Score: 31.37\n",
      "Episode 96\tAverage Score: 31.33\n",
      "Episode 97\tAverage Score: 31.33\n",
      "Episode 98\tAverage Score: 31.32\n",
      "Episode 99\tAverage Score: 31.37\n",
      "Episode 100\tAverage Score: 31.41\n",
      "*Episode 100\tAverage Score: 31.41\n",
      "\n",
      "Episode 101\tAverage Score: 31.75\n",
      "Episode 102\tAverage Score: 32.00\n",
      "Episode 103\tAverage Score: 32.36\n",
      "Episode 104\tAverage Score: 32.74\n",
      "Episode 105\tAverage Score: 33.10\n",
      "Episode 106\tAverage Score: 33.40\n",
      "Episode 107\tAverage Score: 33.70\n",
      "Episode 108\tAverage Score: 34.00\n",
      "Episode 109\tAverage Score: 34.30\n",
      "Episode 110\tAverage Score: 34.51\n",
      "Episode 111\tAverage Score: 34.71\n",
      "Episode 112\tAverage Score: 34.87\n",
      "Episode 113\tAverage Score: 35.06\n",
      "Episode 114\tAverage Score: 35.11\n",
      "Episode 115\tAverage Score: 35.20\n",
      "Episode 116\tAverage Score: 35.28\n",
      "Episode 117\tAverage Score: 35.33\n",
      "Episode 118\tAverage Score: 35.23\n",
      "Episode 119\tAverage Score: 35.08\n",
      "Episode 120\tAverage Score: 35.03\n",
      "Episode 121\tAverage Score: 34.99\n",
      "Episode 122\tAverage Score: 34.94\n",
      "Episode 123\tAverage Score: 34.86\n",
      "Episode 124\tAverage Score: 34.78\n",
      "Episode 125\tAverage Score: 34.77\n",
      "Episode 126\tAverage Score: 34.79\n",
      "Episode 127\tAverage Score: 34.74\n",
      "Episode 128\tAverage Score: 34.68\n",
      "Episode 129\tAverage Score: 34.67\n",
      "Episode 130\tAverage Score: 34.63\n",
      "Episode 131\tAverage Score: 34.62\n",
      "Episode 132\tAverage Score: 34.59\n",
      "Episode 133\tAverage Score: 34.51\n",
      "Episode 134\tAverage Score: 34.51\n",
      "Episode 135\tAverage Score: 34.51\n",
      "Episode 136\tAverage Score: 34.49\n",
      "Episode 137\tAverage Score: 34.49\n",
      "Episode 138\tAverage Score: 34.46\n",
      "Episode 139\tAverage Score: 34.40\n",
      "Episode 140\tAverage Score: 34.33\n",
      "Episode 141\tAverage Score: 34.31\n",
      "Episode 142\tAverage Score: 34.31\n",
      "Episode 143\tAverage Score: 34.34\n",
      "Episode 144\tAverage Score: 34.34\n",
      "Episode 145\tAverage Score: 34.35\n",
      "Episode 146\tAverage Score: 34.19\n",
      "Episode 147\tAverage Score: 34.19\n",
      "Episode 148\tAverage Score: 34.18\n",
      "Episode 149\tAverage Score: 34.17\n",
      "Episode 150\tAverage Score: 34.11\n",
      "Episode 151\tAverage Score: 34.12\n",
      "Episode 152\tAverage Score: 34.12\n",
      "Episode 153\tAverage Score: 34.13\n",
      "Episode 154\tAverage Score: 34.09\n",
      "Episode 155\tAverage Score: 34.09\n",
      "Episode 156\tAverage Score: 34.08\n",
      "Episode 157\tAverage Score: 34.05\n",
      "Episode 158\tAverage Score: 34.03\n",
      "Episode 159\tAverage Score: 34.01\n",
      "Episode 160\tAverage Score: 34.01\n",
      "Episode 161\tAverage Score: 33.99\n",
      "Episode 162\tAverage Score: 34.01\n",
      "Episode 163\tAverage Score: 33.95\n",
      "Episode 164\tAverage Score: 33.90\n",
      "Episode 165\tAverage Score: 33.87\n",
      "Episode 166\tAverage Score: 33.89\n",
      "Episode 167\tAverage Score: 33.90\n",
      "Episode 168\tAverage Score: 33.88\n",
      "Episode 169\tAverage Score: 33.85\n",
      "Episode 170\tAverage Score: 33.80\n",
      "Episode 171\tAverage Score: 33.88\n",
      "Episode 172\tAverage Score: 33.88\n",
      "Episode 173\tAverage Score: 33.78\n",
      "Episode 174\tAverage Score: 33.68\n",
      "Episode 175\tAverage Score: 33.64\n",
      "Episode 176\tAverage Score: 33.62\n",
      "Episode 177\tAverage Score: 33.58\n",
      "Episode 178\tAverage Score: 33.52\n",
      "Episode 179\tAverage Score: 33.52\n",
      "Episode 180\tAverage Score: 33.36\n",
      "Episode 181\tAverage Score: 33.41\n",
      "Episode 182\tAverage Score: 33.36\n",
      "Episode 183\tAverage Score: 33.35\n",
      "Episode 184\tAverage Score: 33.27\n",
      "Episode 185\tAverage Score: 33.26\n",
      "Episode 186\tAverage Score: 33.25\n",
      "Episode 187\tAverage Score: 33.24\n",
      "Episode 188\tAverage Score: 33.18\n",
      "Episode 189\tAverage Score: 33.15\n",
      "Episode 190\tAverage Score: 33.15\n",
      "Episode 191\tAverage Score: 33.08\n",
      "Episode 192\tAverage Score: 33.07\n",
      "Episode 193\tAverage Score: 33.01\n",
      "Episode 194\tAverage Score: 32.93\n",
      "Episode 195\tAverage Score: 32.92\n",
      "Episode 196\tAverage Score: 32.92\n",
      "Episode 197\tAverage Score: 32.98\n",
      "Episode 198\tAverage Score: 33.02\n",
      "Episode 199\tAverage Score: 32.97\n",
      "Episode 200\tAverage Score: 32.93\n",
      "*Episode 200\tAverage Score: 32.93\n",
      "\n",
      "Episode 201\tAverage Score: 32.93\n",
      "Episode 202\tAverage Score: 33.01\n",
      "Episode 203\tAverage Score: 33.01\n",
      "Episode 204\tAverage Score: 32.98\n",
      "Episode 205\tAverage Score: 32.90\n",
      "Episode 206\tAverage Score: 32.88\n",
      "Episode 207\tAverage Score: 32.91\n",
      "Episode 208\tAverage Score: 32.81\n",
      "Episode 209\tAverage Score: 32.79\n",
      "Episode 210\tAverage Score: 32.81\n",
      "Episode 211\tAverage Score: 32.78\n",
      "Episode 212\tAverage Score: 32.69\n",
      "Episode 213\tAverage Score: 32.66\n",
      "Episode 214\tAverage Score: 32.66\n",
      "Episode 215\tAverage Score: 32.65\n",
      "Episode 216\tAverage Score: 32.64\n",
      "Episode 217\tAverage Score: 32.62\n",
      "Episode 218\tAverage Score: 32.57\n",
      "Episode 219\tAverage Score: 32.63\n",
      "Episode 220\tAverage Score: 32.58\n",
      "Episode 221\tAverage Score: 32.56\n",
      "Episode 222\tAverage Score: 32.56\n",
      "Episode 223\tAverage Score: 32.60\n",
      "Episode 224\tAverage Score: 32.57\n",
      "Episode 225\tAverage Score: 32.56\n",
      "Episode 226\tAverage Score: 32.53\n",
      "Episode 227\tAverage Score: 32.58\n",
      "Episode 228\tAverage Score: 32.60\n",
      "Episode 229\tAverage Score: 32.55\n",
      "Episode 230\tAverage Score: 32.52\n",
      "Episode 231\tAverage Score: 32.51\n",
      "Episode 232\tAverage Score: 32.42\n",
      "Episode 233\tAverage Score: 32.46\n",
      "Episode 234\tAverage Score: 32.45\n",
      "Episode 235\tAverage Score: 32.47\n",
      "Episode 236\tAverage Score: 32.47\n",
      "Episode 237\tAverage Score: 32.45\n",
      "Episode 238\tAverage Score: 32.46\n",
      "Episode 239\tAverage Score: 32.49\n",
      "Episode 240\tAverage Score: 32.55\n",
      "Episode 241\tAverage Score: 32.54\n",
      "Episode 242\tAverage Score: 32.41\n",
      "Episode 243\tAverage Score: 32.38\n",
      "Episode 244\tAverage Score: 32.33\n",
      "Episode 245\tAverage Score: 32.34\n",
      "Episode 246\tAverage Score: 32.48\n",
      "Episode 247\tAverage Score: 32.44\n",
      "Episode 248\tAverage Score: 32.41\n",
      "Episode 249\tAverage Score: 32.36\n"
     ]
    },
    {
     "name": "stdout",
     "output_type": "stream",
     "text": [
      "Episode 250\tAverage Score: 32.36\n",
      "Episode 251\tAverage Score: 32.33\n",
      "Episode 252\tAverage Score: 32.35\n",
      "Episode 253\tAverage Score: 32.28\n",
      "Episode 254\tAverage Score: 32.24\n",
      "Episode 255\tAverage Score: 32.18\n",
      "Episode 256\tAverage Score: 32.13\n",
      "Episode 257\tAverage Score: 32.04\n",
      "Episode 258\tAverage Score: 31.95\n",
      "Episode 259\tAverage Score: 31.91\n",
      "Episode 260\tAverage Score: 31.91\n",
      "Episode 261\tAverage Score: 31.85\n",
      "Episode 262\tAverage Score: 31.82\n",
      "Episode 263\tAverage Score: 31.87\n",
      "Episode 264\tAverage Score: 31.83\n",
      "Episode 265\tAverage Score: 31.75\n",
      "Episode 266\tAverage Score: 31.72\n",
      "Episode 267\tAverage Score: 31.69\n",
      "Episode 268\tAverage Score: 31.67\n",
      "Episode 269\tAverage Score: 31.65\n",
      "Episode 270\tAverage Score: 31.71\n",
      "Episode 271\tAverage Score: 31.60\n",
      "Episode 272\tAverage Score: 31.61\n",
      "Episode 273\tAverage Score: 31.71\n",
      "Episode 274\tAverage Score: 31.74\n",
      "Episode 275\tAverage Score: 31.79\n",
      "Episode 276\tAverage Score: 31.62\n",
      "Episode 277\tAverage Score: 31.66\n",
      "Episode 278\tAverage Score: 31.67\n",
      "Episode 279\tAverage Score: 31.57\n",
      "Episode 280\tAverage Score: 31.67\n",
      "Episode 281\tAverage Score: 31.60\n",
      "Episode 282\tAverage Score: 31.65\n",
      "Episode 283\tAverage Score: 31.58\n",
      "Episode 284\tAverage Score: 31.67\n",
      "Episode 285\tAverage Score: 31.67\n",
      "Episode 286\tAverage Score: 31.69\n",
      "Episode 287\tAverage Score: 31.68\n",
      "Episode 288\tAverage Score: 31.71\n",
      "Episode 289\tAverage Score: 31.71\n",
      "Episode 290\tAverage Score: 31.74\n",
      "Episode 291\tAverage Score: 31.80\n",
      "Episode 292\tAverage Score: 31.77\n",
      "Episode 293\tAverage Score: 31.84\n",
      "Episode 294\tAverage Score: 31.87\n",
      "Episode 295\tAverage Score: 31.87\n",
      "Episode 296\tAverage Score: 31.85\n",
      "Episode 297\tAverage Score: 31.80\n",
      "Episode 298\tAverage Score: 31.77\n",
      "Episode 299\tAverage Score: 31.77\n",
      "Episode 300\tAverage Score: 31.68\n",
      "*Episode 300\tAverage Score: 31.68\n"
     ]
    },
    {
     "data": {
      "image/png": "[encoded data removed]",
      "text/plain": [
       "<Figure size 432x288 with 1 Axes>"
      ]
     },
     "metadata": {
      "needs_background": "light"
     },
     "output_type": "display_data"
    }
   ],
   "source": [
    "def ddpg(n_episodes=300, print_every=100):\n",
    "    scores_deque = deque(maxlen=print_every)\n",
    "    scores = []\n",
    "    for i_episode in range(1, n_episodes+1):\n",
    "        env_info = env.reset(train_mode=True)[brain_name]\n",
    "        states = env_info.vector_observations  \n",
    "        state = states\n",
    "        agent.reset()\n",
    "        score = 0\n",
    "        t=0\n",
    "        while True:\n",
    "            action = agent.act(state)\n",
    "            env_info = env.step(action)[brain_name]\n",
    "            reward = env_info.rewards\n",
    "            next_state = env_info.vector_observations\n",
    "            done = env_info.local_done\n",
    "            #reward=reward2[0]\n",
    "            agent.step(state, action, reward, next_state, done)\n",
    "            state = next_state\n",
    "            score += reward[0]\n",
    "            t= t + 1\n",
    "            if done[0]:\n",
    "                break\n",
    "           \n",
    "        scores_deque.append(score)\n",
    "        scores.append(score)\n",
    "        print('\\nEpisode {}\\tAverage Score: {:.2f}'.format(i_episode, np.mean(scores_deque)), end=\"\")\n",
    "        torch.save(agent.actor_local.state_dict(), 'checkpoint_actor.pth')\n",
    "        torch.save(agent.critic_local.state_dict(), 'checkpoint_critic.pth')\n",
    "        if i_episode % print_every == 0:\n",
    "            print('\\n*Episode {}\\tAverage Score: {:.2f}'.format(i_episode, np.mean(scores_deque)))\n",
    "            \n",
    "    return scores\n",
    "\n",
    "scores = ddpg()\n",
    "\n",
    "fig = plt.figure()\n",
    "ax = fig.add_subplot(111)\n",
    "plt.plot(np.arange(1, len(scores)+1), scores)\n",
    "plt.ylabel('Score')\n",
    "plt.xlabel('Episode #')\n",
    "plt.show()"
   ]
  },
  {
   "cell_type": "code",
   "execution_count": 14,
   "metadata": {},
   "outputs": [],
   "source": [
    "env.close()"
   ]
  },
  {
   "cell_type": "code",
   "execution_count": null,
   "metadata": {},
   "outputs": [],
   "source": []
  }
 ],
 "metadata": {
  "kernelspec": {
   "display_name": "drlnd",
   "language": "python",
   "name": "drlnd"
  },
  "language_info": {
   "codemirror_mode": {
    "name": "ipython",
    "version": 3
   },
   "file_extension": ".py",
   "mimetype": "text/x-python",
   "name": "python",
   "nbconvert_exporter": "python",
   "pygments_lexer": "ipython3",
   "version": "3.6.13"
  }
 },
 "nbformat": 4,
 "nbformat_minor": 2
}
